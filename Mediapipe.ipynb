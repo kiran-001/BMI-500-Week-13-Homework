{
 "cells": [
  {
   "cell_type": "markdown",
   "id": "a5165707",
   "metadata": {},
   "source": [
    "# <center> BMI 500: Mediapipe in Python"
   ]
  },
  {
   "cell_type": "markdown",
   "id": "37ecd62e",
   "metadata": {},
   "source": [
    "## Week - 13 "
   ]
  },
  {
   "cell_type": "code",
   "execution_count": 1,
   "id": "ab22f4a8",
   "metadata": {},
   "outputs": [],
   "source": [
    "import cv2\n",
    "import numpy as np\n",
    "import mediapipe as mp\n",
    "from mediapipe.framework.formats import landmark_pb2\n",
    "from mediapipe.python.solutions import drawing_utils, pose as mp_pose"
   ]
  },
  {
   "cell_type": "code",
   "execution_count": 2,
   "id": "2a18e6dc",
   "metadata": {},
   "outputs": [
    {
     "name": "stderr",
     "output_type": "stream",
     "text": [
      "INFO: Created TensorFlow Lite XNNPACK delegate for CPU.\n"
     ]
    }
   ],
   "source": [
    "# Initialize MediaPipe Pose\n",
    "pose = mp_pose.Pose(static_image_mode=False, min_detection_confidence=0.5, min_tracking_confidence=0.5)"
   ]
  },
  {
   "cell_type": "markdown",
   "id": "599f51cd",
   "metadata": {},
   "source": [
    "### Function to draw Landmarks"
   ]
  },
  {
   "cell_type": "code",
   "execution_count": 3,
   "id": "8ad59f33",
   "metadata": {},
   "outputs": [],
   "source": [
    "def draw_landmarks_on_image(image, results):\n",
    "    annotated_image = image.copy()\n",
    "    if results.pose_landmarks:\n",
    "        drawing_utils.draw_landmarks(\n",
    "            annotated_image, \n",
    "            results.pose_landmarks, \n",
    "            mp_pose.POSE_CONNECTIONS,\n",
    "            drawing_utils.DrawingSpec(color=(245,117,66), thickness=2, circle_radius=2), \n",
    "            drawing_utils.DrawingSpec(color=(245,66,230), thickness=2, circle_radius=2)\n",
    "        )\n",
    "    return annotated_image"
   ]
  },
  {
   "cell_type": "code",
   "execution_count": 4,
   "id": "40a91cde",
   "metadata": {},
   "outputs": [],
   "source": [
    "# Open video file\n",
    "cap = cv2.VideoCapture('Attitude Walking Status...🔥#shorts #subscribe #attitude #status.mp4')"
   ]
  },
  {
   "cell_type": "code",
   "execution_count": 5,
   "id": "814af001",
   "metadata": {},
   "outputs": [],
   "source": [
    "# Get video details for VideoWriter\n",
    "frame_width = int(cap.get(3))\n",
    "frame_height = int(cap.get(4))\n",
    "frame_rate = int(cap.get(cv2.CAP_PROP_FPS))\n",
    "codec = cv2.VideoWriter_fourcc(*'mp4v')\n",
    "out = cv2.VideoWriter('mediapipe_output.mp4', codec, frame_rate, (frame_width, frame_height))\n",
    "\n",
    "while cap.isOpened():\n",
    "    success, frame = cap.read()\n",
    "    if not success:\n",
    "        break\n",
    "\n",
    "    frame_rgb = cv2.cvtColor(frame, cv2.COLOR_BGR2RGB)\n",
    "    results = pose.process(frame_rgb)\n",
    "    annotated_image = draw_landmarks_on_image(frame, results)\n",
    "\n",
    "    # Write the frame into the file 'output.mp4'\n",
    "    out.write(annotated_image)\n",
    "\n",
    "    cv2.imshow('Pose Estimation', annotated_image)\n",
    "    if cv2.waitKey(5) & 0xFF == 27:\n",
    "        break\n",
    "\n",
    "# Release\n",
    "cap.release()\n",
    "out.release()\n",
    "cv2.destroyAllWindows()"
   ]
  },
  {
   "cell_type": "markdown",
   "id": "9c686a0e",
   "metadata": {},
   "source": [
    "## Acknowledgment\n",
    "I would like to acknowledge the assistance provided by OpenAI's ChatGPT in completing my homework assignment for BMI 500 Week 13. The insights and guidance offered by ChatGPT significantly aided in understanding and solving various aspects of the assignment, particularly in the areas of code development and conceptual explanations. I have thoroughly reviewed and understood all contributions made by ChatGPT and have ensured that they align with the academic integrity standards of the course."
   ]
  },
  {
   "cell_type": "markdown",
   "id": "24fbe343",
   "metadata": {},
   "source": [
    "## References:\n",
    "\n",
    "Input Video: \n",
    "https://youtube.com/shorts/_vmErFojNp8?si=HNeJDYeAARAIRQvO\n",
    "\n",
    "Getting Started with MediaPipe in Python: \n",
    "https://google.github.io/mediapipe/getting_started/python.html\n",
    "\n",
    "MediaPipe Pose Solution: \n",
    "https://google.github.io/mediapipe/solutions/pose.html\n",
    "\n",
    "BMI 500 Week 13 Notes: \n",
    "https://drive.google.com/drive/folders/13fXFgqlh6m19XOXiFBn1MwsSPKOHpEps"
   ]
  }
 ],
 "metadata": {
  "kernelspec": {
   "display_name": "Python 3 (ipykernel)",
   "language": "python",
   "name": "python3"
  },
  "language_info": {
   "codemirror_mode": {
    "name": "ipython",
    "version": 3
   },
   "file_extension": ".py",
   "mimetype": "text/x-python",
   "name": "python",
   "nbconvert_exporter": "python",
   "pygments_lexer": "ipython3",
   "version": "3.11.4"
  }
 },
 "nbformat": 4,
 "nbformat_minor": 5
}
